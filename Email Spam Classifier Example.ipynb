{
 "cells": [
  {
   "cell_type": "markdown",
   "id": "33b26de3",
   "metadata": {},
   "source": [
    "# This is an example of the spam classifier that I used to test which words in the subject lines lead to spam"
   ]
  },
  {
   "cell_type": "markdown",
   "id": "ee5d1730",
   "metadata": {},
   "source": [
    "The goal of an email marketer is to have as many people as possible open and click on the email campaigns that they send.  In order to get a large amount of people to click on the emails, the emails have to land in the inbox.  Therefore, with enough email data, we can use NLP to see what type of language contributes to spam, so that we can decrease our spam rates."
   ]
  },
  {
   "cell_type": "markdown",
   "id": "d675d97f",
   "metadata": {},
   "source": [
    "Here we will use a sample dataset to demonstrate how we can achieve our objective.  I used these techniques to optimize my email marketing campaigns but I can not use the same data for this example for privacy reasons, so I will use a made-up dataset.  This dataset resembles what a real world email dataset would look like, containing the sender, subject, and open rate (%).  The open rate is the percentage of people who opened the email."
   ]
  },
  {
   "cell_type": "code",
   "execution_count": 1,
   "id": "8cb389db",
   "metadata": {},
   "outputs": [],
   "source": [
    "import warnings\n",
    "warnings.filterwarnings('ignore')"
   ]
  },
  {
   "cell_type": "code",
   "execution_count": 2,
   "id": "bbfaf0e3",
   "metadata": {},
   "outputs": [],
   "source": [
    "import numpy as np\n",
    "import pandas as pd\n",
    "from sklearn.feature_extraction.text import CountVectorizer, TfidfVectorizer\n",
    "from sklearn.naive_bayes import MultinomialNB\n",
    "from sklearn.model_selection import train_test_split\n",
    "from sklearn.metrics import roc_auc_score, f1_score\n",
    "from wordcloud import WordCloud\n",
    "import matplotlib.pyplot as plt\n",
    "from sklearn.utils import resample\n",
    "from sklearn.ensemble import RandomForestClassifier\n",
    "from sklearn.linear_model import LogisticRegression\n",
    "from sklearn.svm import SVC\n",
    "from sklearn.neighbors import KNeighborsClassifier\n",
    "import nltk\n",
    "from imblearn.over_sampling import SMOTE"
   ]
  },
  {
   "cell_type": "markdown",
   "id": "ca81db74",
   "metadata": {},
   "source": [
    "## Basic Data Exploration and Pre-processing"
   ]
  },
  {
   "cell_type": "code",
   "execution_count": 3,
   "id": "2df2ce13",
   "metadata": {},
   "outputs": [
    {
     "data": {
      "text/html": [
       "<div>\n",
       "<style scoped>\n",
       "    .dataframe tbody tr th:only-of-type {\n",
       "        vertical-align: middle;\n",
       "    }\n",
       "\n",
       "    .dataframe tbody tr th {\n",
       "        vertical-align: top;\n",
       "    }\n",
       "\n",
       "    .dataframe thead th {\n",
       "        text-align: right;\n",
       "    }\n",
       "</style>\n",
       "<table border=\"1\" class=\"dataframe\">\n",
       "  <thead>\n",
       "    <tr style=\"text-align: right;\">\n",
       "      <th></th>\n",
       "      <th>Sender</th>\n",
       "      <th>Subject</th>\n",
       "      <th>OpenRate</th>\n",
       "    </tr>\n",
       "  </thead>\n",
       "  <tbody>\n",
       "    <tr>\n",
       "      <th>0</th>\n",
       "      <td>Car Insurance</td>\n",
       "      <td>Compare car insurance quotes online</td>\n",
       "      <td>12.51</td>\n",
       "    </tr>\n",
       "    <tr>\n",
       "      <th>1</th>\n",
       "      <td>Prize Promotions</td>\n",
       "      <td>Congratulations!</td>\n",
       "      <td>2.31</td>\n",
       "    </tr>\n",
       "    <tr>\n",
       "      <th>2</th>\n",
       "      <td>Car Insurance</td>\n",
       "      <td>You deserve affordable car insurance</td>\n",
       "      <td>8.23</td>\n",
       "    </tr>\n",
       "    <tr>\n",
       "      <th>3</th>\n",
       "      <td>Prize Promotions</td>\n",
       "      <td>Please take this survey</td>\n",
       "      <td>12.21</td>\n",
       "    </tr>\n",
       "    <tr>\n",
       "      <th>4</th>\n",
       "      <td>Prize Promotions</td>\n",
       "      <td>Congratulations, here is your free prize!</td>\n",
       "      <td>1.81</td>\n",
       "    </tr>\n",
       "    <tr>\n",
       "      <th>5</th>\n",
       "      <td>Survey Partner</td>\n",
       "      <td>How well do you know capital cities?</td>\n",
       "      <td>15.23</td>\n",
       "    </tr>\n",
       "    <tr>\n",
       "      <th>6</th>\n",
       "      <td>Mortgage Partner</td>\n",
       "      <td>Cheap rates for refinancing</td>\n",
       "      <td>18.34</td>\n",
       "    </tr>\n",
       "    <tr>\n",
       "      <th>7</th>\n",
       "      <td>Prize Promotions</td>\n",
       "      <td>Don’t miss this limited time offer</td>\n",
       "      <td>11.93</td>\n",
       "    </tr>\n",
       "    <tr>\n",
       "      <th>8</th>\n",
       "      <td>Prize Promotions</td>\n",
       "      <td>Congratulations, you have won a free gift card!</td>\n",
       "      <td>3.73</td>\n",
       "    </tr>\n",
       "    <tr>\n",
       "      <th>9</th>\n",
       "      <td>Ride Share</td>\n",
       "      <td>Drive more, pay less</td>\n",
       "      <td>16.77</td>\n",
       "    </tr>\n",
       "  </tbody>\n",
       "</table>\n",
       "</div>"
      ],
      "text/plain": [
       "             Sender                                          Subject  OpenRate\n",
       "0     Car Insurance              Compare car insurance quotes online     12.51\n",
       "1  Prize Promotions                                 Congratulations!      2.31\n",
       "2     Car Insurance             You deserve affordable car insurance      8.23\n",
       "3  Prize Promotions                          Please take this survey     12.21\n",
       "4  Prize Promotions        Congratulations, here is your free prize!      1.81\n",
       "5    Survey Partner             How well do you know capital cities?     15.23\n",
       "6  Mortgage Partner                      Cheap rates for refinancing     18.34\n",
       "7  Prize Promotions               Don’t miss this limited time offer     11.93\n",
       "8  Prize Promotions  Congratulations, you have won a free gift card!      3.73\n",
       "9        Ride Share                             Drive more, pay less     16.77"
      ]
     },
     "execution_count": 3,
     "metadata": {},
     "output_type": "execute_result"
    }
   ],
   "source": [
    "data=pd.read_csv(\"Sample Email Data - Spam Classifier.csv\")\n",
    "data.head(10)"
   ]
  },
  {
   "cell_type": "code",
   "execution_count": 4,
   "id": "7bf475a4",
   "metadata": {},
   "outputs": [
    {
     "data": {
      "text/plain": [
       "(100, 3)"
      ]
     },
     "execution_count": 4,
     "metadata": {},
     "output_type": "execute_result"
    }
   ],
   "source": [
    "data.shape"
   ]
  },
  {
   "cell_type": "markdown",
   "id": "057d7aca",
   "metadata": {},
   "source": [
    "This dataset has these 10 senders, subject lines and open rates, repeated 10 times for a total of 100 rows.  I created it this way just for demonstration purposes."
   ]
  },
  {
   "cell_type": "markdown",
   "id": "179ea5d4",
   "metadata": {},
   "source": [
    "With real world email data, there is no clear cut spam/no spam metric.  However, we can tell a campaign spammed when it has an extremely low open rate.  In my experience, most campaigns have about a 7.0-30.0% open rate, depending on a multitude of factors.  Therefore, in practice we use 3.0% as the threshold for spam.  If the open rate is less than 3.0%, we can consider the campaign to have spammed.  Here we will make a column called spam for the emails that spammed.  A value of 1 will signify that the campaign has spammed, whereas a value of 0 will signify that the campaign has not spammed."
   ]
  },
  {
   "cell_type": "code",
   "execution_count": 5,
   "id": "86a897ef",
   "metadata": {},
   "outputs": [],
   "source": [
    "data[\"Spam\"]=data[\"OpenRate\"].apply(lambda x: 0 if x>3.0 else 1)"
   ]
  },
  {
   "cell_type": "code",
   "execution_count": 6,
   "id": "867fc82f",
   "metadata": {},
   "outputs": [],
   "source": [
    "data=data.drop('OpenRate', axis=1)"
   ]
  },
  {
   "cell_type": "code",
   "execution_count": 7,
   "id": "27795927",
   "metadata": {},
   "outputs": [
    {
     "data": {
      "text/html": [
       "<div>\n",
       "<style scoped>\n",
       "    .dataframe tbody tr th:only-of-type {\n",
       "        vertical-align: middle;\n",
       "    }\n",
       "\n",
       "    .dataframe tbody tr th {\n",
       "        vertical-align: top;\n",
       "    }\n",
       "\n",
       "    .dataframe thead th {\n",
       "        text-align: right;\n",
       "    }\n",
       "</style>\n",
       "<table border=\"1\" class=\"dataframe\">\n",
       "  <thead>\n",
       "    <tr style=\"text-align: right;\">\n",
       "      <th></th>\n",
       "      <th>Sender</th>\n",
       "      <th>Subject</th>\n",
       "      <th>Spam</th>\n",
       "    </tr>\n",
       "  </thead>\n",
       "  <tbody>\n",
       "    <tr>\n",
       "      <th>0</th>\n",
       "      <td>Car Insurance</td>\n",
       "      <td>Compare car insurance quotes online</td>\n",
       "      <td>0</td>\n",
       "    </tr>\n",
       "    <tr>\n",
       "      <th>1</th>\n",
       "      <td>Prize Promotions</td>\n",
       "      <td>Congratulations!</td>\n",
       "      <td>1</td>\n",
       "    </tr>\n",
       "    <tr>\n",
       "      <th>2</th>\n",
       "      <td>Car Insurance</td>\n",
       "      <td>You deserve affordable car insurance</td>\n",
       "      <td>0</td>\n",
       "    </tr>\n",
       "    <tr>\n",
       "      <th>3</th>\n",
       "      <td>Prize Promotions</td>\n",
       "      <td>Please take this survey</td>\n",
       "      <td>0</td>\n",
       "    </tr>\n",
       "    <tr>\n",
       "      <th>4</th>\n",
       "      <td>Prize Promotions</td>\n",
       "      <td>Congratulations, here is your free prize!</td>\n",
       "      <td>1</td>\n",
       "    </tr>\n",
       "  </tbody>\n",
       "</table>\n",
       "</div>"
      ],
      "text/plain": [
       "             Sender                                    Subject  Spam\n",
       "0     Car Insurance        Compare car insurance quotes online     0\n",
       "1  Prize Promotions                           Congratulations!     1\n",
       "2     Car Insurance       You deserve affordable car insurance     0\n",
       "3  Prize Promotions                    Please take this survey     0\n",
       "4  Prize Promotions  Congratulations, here is your free prize!     1"
      ]
     },
     "execution_count": 7,
     "metadata": {},
     "output_type": "execute_result"
    }
   ],
   "source": [
    "data.head()"
   ]
  },
  {
   "cell_type": "markdown",
   "id": "a8f2dbc9",
   "metadata": {},
   "source": [
    "We can now look at the distribution of spam within our data."
   ]
  },
  {
   "cell_type": "code",
   "execution_count": 8,
   "id": "d18db672",
   "metadata": {},
   "outputs": [
    {
     "data": {
      "text/plain": [
       "<AxesSubplot:>"
      ]
     },
     "execution_count": 8,
     "metadata": {},
     "output_type": "execute_result"
    },
    {
     "data": {
      "image/png": "[encoded data removed]",
      "text/plain": [
       "<Figure size 432x288 with 1 Axes>"
      ]
     },
     "metadata": {
      "needs_background": "light"
     },
     "output_type": "display_data"
    }
   ],
   "source": [
    "data.Spam.hist(grid=False)"
   ]
  },
  {
   "cell_type": "code",
   "execution_count": 9,
   "id": "33d4a8c3",
   "metadata": {},
   "outputs": [
    {
     "data": {
      "text/plain": [
       "0    74\n",
       "1    26\n",
       "Name: Spam, dtype: int64"
      ]
     },
     "execution_count": 9,
     "metadata": {},
     "output_type": "execute_result"
    }
   ],
   "source": [
    "data.Spam.value_counts()"
   ]
  },
  {
   "cell_type": "markdown",
   "id": "81b1137a",
   "metadata": {},
   "source": [
    "As we can see, there are about 3 times as many instances of non-spam as there are spam.  It is normal to have a class imbalance with this type of data because if you are appropriately running email marketing campaigns, only a small minority of emails will spam.  However, we will have to deal with this class imbalance to create an accurate model.  We can deal with it in a number of ways, such as under sampling and over sampling, but in my practice I found that the Synthetic Minority Oversampling Technique (SMOTE) works the best, so we will use it here."
   ]
  },
  {
   "cell_type": "code",
   "execution_count": 10,
   "id": "00e3a3c9",
   "metadata": {},
   "outputs": [],
   "source": [
    "sm=SMOTE(sampling_strategy=\"minority\",k_neighbors=2)"
   ]
  },
  {
   "cell_type": "markdown",
   "id": "78f7652c",
   "metadata": {},
   "source": [
    "## Model Selection and Pre-processing"
   ]
  },
  {
   "cell_type": "markdown",
   "id": "1e029e6e",
   "metadata": {},
   "source": [
    "First we convert our data into input and output data (in this case our input is the subjects lines, and the output is whether or not they spammed).  We will then spilt them into train and test data, using a test size of 20%."
   ]
  },
  {
   "cell_type": "code",
   "execution_count": 11,
   "id": "55c63447",
   "metadata": {},
   "outputs": [],
   "source": [
    "inputs=data['Subject']\n",
    "spam=data['Spam']"
   ]
  },
  {
   "cell_type": "code",
   "execution_count": 12,
   "id": "a59e873f",
   "metadata": {},
   "outputs": [],
   "source": [
    "inputs_train, inputs_test, y_train, y_test = train_test_split(inputs, spam, random_state=1, test_size=0.2)"
   ]
  },
  {
   "cell_type": "markdown",
   "id": "d94267f9",
   "metadata": {},
   "source": [
    "The models we will be testing for this will be Multinomial Naive Bayes, Logistic Regression, Random Forest Classification, Support Vector Classification, and K-Nearest Neighbor Classification."
   ]
  },
  {
   "cell_type": "code",
   "execution_count": 13,
   "id": "9d4fe67b",
   "metadata": {},
   "outputs": [],
   "source": [
    "models=[MultinomialNB(), RandomForestClassifier(), LogisticRegression(), \\\n",
    "        SVC(probability=True),KNeighborsClassifier(n_neighbors=2)]"
   ]
  },
  {
   "cell_type": "markdown",
   "id": "12b8bd52",
   "metadata": {},
   "source": [
    "Prior to testing a model, we have to convert our text data into numerical data.  We can do this by using a vectorizer.  The ones that I tested were the count vectorizer and the TF-IDF vectorizer.  I found that the best preforming vectorizer for me was the TF-IDF vectorizer with English stop words removed, which will be the one we use here."
   ]
  },
  {
   "cell_type": "markdown",
   "id": "4fd24210",
   "metadata": {},
   "source": [
    "The text_preprocess() function takes our data inputs and the vectorizer as inputs.  It vecotrizes our data and fixes our class imbalance, and returns our processed X_train, X_test, and y_train variables."
   ]
  },
  {
   "cell_type": "code",
   "execution_count": 14,
   "id": "a6190980",
   "metadata": {},
   "outputs": [],
   "source": [
    "def text_preprocess(vectorizer,inputs_train,inputs_test,y_train, imbalance=True):\n",
    "    X_train=vectorizer.fit_transform(inputs_train)\n",
    "    X_test=vectorizer.transform(inputs_test)\n",
    "    if imbalance==True:\n",
    "            X_train,y_train=sm.fit_resample(X_train,y_train)\n",
    "    return X_train,X_test,y_train"
   ]
  },
  {
   "cell_type": "code",
   "execution_count": 15,
   "id": "874b2509",
   "metadata": {},
   "outputs": [],
   "source": [
    "vectorizer=TfidfVectorizer(stop_words='english')"
   ]
  },
  {
   "cell_type": "markdown",
   "id": "5642cb54",
   "metadata": {},
   "source": [
    "Now that our data is processed, we can test our models.  The classifier() function will fit our model onto our data and evaluate its success.  We will mainly be using the F1 score and the AUC score to evaulate our models. "
   ]
  },
  {
   "cell_type": "code",
   "execution_count": 16,
   "id": "19184237",
   "metadata": {},
   "outputs": [],
   "source": [
    "X_train, X_test, y_train=text_preprocess(vectorizer,inputs_train,inputs_test,y_train,imbalance=True)"
   ]
  },
  {
   "cell_type": "code",
   "execution_count": 17,
   "id": "240c04f2",
   "metadata": {},
   "outputs": [],
   "source": [
    "def classifier(estimator,X_train,X_test,y_train,y_test):\n",
    "    model = estimator\n",
    "    model.fit(X_train, y_train)\n",
    "    print(\"train score:\", model.score(X_train, y_train))\n",
    "    print(\"test score:\", model.score(X_test, y_test))\n",
    "    preds_train=model.predict(X_train)\n",
    "    preds_test=model.predict(X_test)\n",
    "    print(\"train F1 score:\", f1_score(y_train, preds_train))\n",
    "    print(\"test F1 score:\", f1_score(y_test, preds_test))\n",
    "    prob_train=model.predict_proba(X_train)[:,1]\n",
    "    prob_test=model.predict_proba(X_test)[:,1]\n",
    "    print(\"train AUC:\", roc_auc_score(y_train, prob_train))\n",
    "    print(\"test AUC:\", roc_auc_score(y_test, prob_test))\n",
    "    print(X_train.shape)\n",
    "    print(model,\"\\n\")\n",
    "    return model"
   ]
  },
  {
   "cell_type": "code",
   "execution_count": 18,
   "id": "d183a120",
   "metadata": {},
   "outputs": [
    {
     "name": "stdout",
     "output_type": "stream",
     "text": [
      "train score: 0.9666666666666667\n",
      "test score: 1.0\n",
      "train F1 score: 0.967741935483871\n",
      "test F1 score: 1.0\n",
      "train AUC: 0.9733333333333334\n",
      "test AUC: 1.0\n",
      "(120, 27)\n",
      "MultinomialNB() \n",
      "\n",
      "train score: 0.9666666666666667\n",
      "test score: 1.0\n",
      "train F1 score: 0.967741935483871\n",
      "test F1 score: 1.0\n",
      "train AUC: 0.9755555555555555\n",
      "test AUC: 1.0\n",
      "(120, 27)\n",
      "RandomForestClassifier() \n",
      "\n",
      "train score: 0.9666666666666667\n",
      "test score: 1.0\n",
      "train F1 score: 0.967741935483871\n",
      "test F1 score: 1.0\n",
      "train AUC: 0.9755555555555555\n",
      "test AUC: 1.0\n",
      "(120, 27)\n",
      "LogisticRegression() \n",
      "\n",
      "train score: 0.9666666666666667\n",
      "test score: 1.0\n",
      "train F1 score: 0.967741935483871\n",
      "test F1 score: 1.0\n",
      "train AUC: 0.9577777777777778\n",
      "test AUC: 0.9999999999999999\n",
      "(120, 27)\n",
      "SVC(probability=True) \n",
      "\n",
      "train score: 0.7333333333333333\n",
      "test score: 0.8\n",
      "train F1 score: 0.6444444444444445\n",
      "test F1 score: 0.5\n",
      "train AUC: 0.9744444444444444\n",
      "test AUC: 1.0\n",
      "(120, 27)\n",
      "KNeighborsClassifier(n_neighbors=2) \n",
      "\n"
     ]
    }
   ],
   "source": [
    "for model in models:\n",
    "    classifier(model, X_train, X_test, y_train, y_test)"
   ]
  },
  {
   "cell_type": "markdown",
   "id": "cef2faff",
   "metadata": {},
   "source": [
    "As we can see, all of our models worked well on our fake data.  This is obviously not representative of how these models would perform on real world data, but here I am just demonstrating the code.  In my case, the Random Forest Classifier had the best F1 and AUC scores, and was not overfitting/underfitting (after some hyperparameter tuning)."
   ]
  },
  {
   "cell_type": "markdown",
   "id": "540614ea",
   "metadata": {},
   "source": [
    "## Visualization"
   ]
  },
  {
   "cell_type": "markdown",
   "id": "4a02d0be",
   "metadata": {},
   "source": [
    "We can also visualize our data.  In the generate_wordcloud() function, we will be generating a word cloud of the most common words/phrases for each class.  The show_top_words() function will also show the top words in each class, sorted by their count."
   ]
  },
  {
   "cell_type": "code",
   "execution_count": 19,
   "id": "5c23a9e9",
   "metadata": {},
   "outputs": [],
   "source": [
    "def generate_wordcloud(data):\n",
    "    global all_words\n",
    "    all_words=''\n",
    "\n",
    "    for sub in (data):\n",
    "        sub=sub.lower()\n",
    "        all_words += sub + ' '\n",
    "\n",
    "    wordcloud=WordCloud(background_color='white',width=3000, height=1000).generate(all_words)\n",
    "    plt.imshow(wordcloud)\n",
    "    plt.axis('off')\n",
    "    plt.show()\n",
    "    \n",
    "    return all_words"
   ]
  },
  {
   "cell_type": "code",
   "execution_count": 20,
   "id": "63e8bc5e",
   "metadata": {},
   "outputs": [],
   "source": [
    "def show_top_words(words):\n",
    "    word_dict={}\n",
    "    for i in all_words.split():\n",
    "        if i in list(word_dict.keys()):\n",
    "            word_dict[i]+=1\n",
    "        else:\n",
    "            word_dict[i]=1\n",
    "\n",
    "    top_words=pd.DataFrame([word_dict]).transpose().reset_index()\n",
    "    top_words.columns=['Word', 'Count']\n",
    "    top_10_words=top_words.sort_values(by='Count', ascending=False).head(10)\n",
    "    return top_10_words"
   ]
  },
  {
   "cell_type": "code",
   "execution_count": 21,
   "id": "a26f4b3b",
   "metadata": {},
   "outputs": [
    {
     "data": {
      "image/png": "[encoded data removed]",
      "text/plain": [
       "<Figure size 432x288 with 1 Axes>"
      ]
     },
     "metadata": {
      "needs_background": "light"
     },
     "output_type": "display_data"
    },
    {
     "data": {
      "text/html": [
       "<div>\n",
       "<style scoped>\n",
       "    .dataframe tbody tr th:only-of-type {\n",
       "        vertical-align: middle;\n",
       "    }\n",
       "\n",
       "    .dataframe tbody tr th {\n",
       "        vertical-align: top;\n",
       "    }\n",
       "\n",
       "    .dataframe thead th {\n",
       "        text-align: right;\n",
       "    }\n",
       "</style>\n",
       "<table border=\"1\" class=\"dataframe\">\n",
       "  <thead>\n",
       "    <tr style=\"text-align: right;\">\n",
       "      <th></th>\n",
       "      <th>Word</th>\n",
       "      <th>Count</th>\n",
       "    </tr>\n",
       "  </thead>\n",
       "  <tbody>\n",
       "    <tr>\n",
       "      <th>1</th>\n",
       "      <td>congratulations,</td>\n",
       "      <td>17</td>\n",
       "    </tr>\n",
       "    <tr>\n",
       "      <th>5</th>\n",
       "      <td>free</td>\n",
       "      <td>17</td>\n",
       "    </tr>\n",
       "    <tr>\n",
       "      <th>0</th>\n",
       "      <td>congratulations!</td>\n",
       "      <td>9</td>\n",
       "    </tr>\n",
       "    <tr>\n",
       "      <th>2</th>\n",
       "      <td>here</td>\n",
       "      <td>9</td>\n",
       "    </tr>\n",
       "    <tr>\n",
       "      <th>3</th>\n",
       "      <td>is</td>\n",
       "      <td>9</td>\n",
       "    </tr>\n",
       "    <tr>\n",
       "      <th>4</th>\n",
       "      <td>your</td>\n",
       "      <td>9</td>\n",
       "    </tr>\n",
       "    <tr>\n",
       "      <th>6</th>\n",
       "      <td>prize!</td>\n",
       "      <td>9</td>\n",
       "    </tr>\n",
       "    <tr>\n",
       "      <th>7</th>\n",
       "      <td>you</td>\n",
       "      <td>8</td>\n",
       "    </tr>\n",
       "    <tr>\n",
       "      <th>8</th>\n",
       "      <td>have</td>\n",
       "      <td>8</td>\n",
       "    </tr>\n",
       "    <tr>\n",
       "      <th>9</th>\n",
       "      <td>won</td>\n",
       "      <td>8</td>\n",
       "    </tr>\n",
       "  </tbody>\n",
       "</table>\n",
       "</div>"
      ],
      "text/plain": [
       "               Word  Count\n",
       "1  congratulations,     17\n",
       "5              free     17\n",
       "0  congratulations!      9\n",
       "2              here      9\n",
       "3                is      9\n",
       "4              your      9\n",
       "6            prize!      9\n",
       "7               you      8\n",
       "8              have      8\n",
       "9               won      8"
      ]
     },
     "execution_count": 21,
     "metadata": {},
     "output_type": "execute_result"
    }
   ],
   "source": [
    "generate_wordcloud(data[data['Spam']==1]['Subject'])\n",
    "show_top_words(all_words)"
   ]
  },
  {
   "cell_type": "markdown",
   "id": "01857a3b",
   "metadata": {},
   "source": [
    "As we can see, some of the most common words and phrases that lead to spam based on this dataset are \"free\", \"congratulations\", and \"free prize\" (I specifically made this fake data like this because these words/phrases actually do lead to spam based on my real world analysis/experience)."
   ]
  },
  {
   "cell_type": "code",
   "execution_count": 22,
   "id": "69861607",
   "metadata": {},
   "outputs": [
    {
     "data": {
      "image/png": "[encoded data removed]",
      "text/plain": [
       "<Figure size 432x288 with 1 Axes>"
      ]
     },
     "metadata": {
      "needs_background": "light"
     },
     "output_type": "display_data"
    },
    {
     "data": {
      "text/html": [
       "<div>\n",
       "<style scoped>\n",
       "    .dataframe tbody tr th:only-of-type {\n",
       "        vertical-align: middle;\n",
       "    }\n",
       "\n",
       "    .dataframe tbody tr th {\n",
       "        vertical-align: top;\n",
       "    }\n",
       "\n",
       "    .dataframe thead th {\n",
       "        text-align: right;\n",
       "    }\n",
       "</style>\n",
       "<table border=\"1\" class=\"dataframe\">\n",
       "  <thead>\n",
       "    <tr style=\"text-align: right;\">\n",
       "      <th></th>\n",
       "      <th>Word</th>\n",
       "      <th>Count</th>\n",
       "    </tr>\n",
       "  </thead>\n",
       "  <tbody>\n",
       "    <tr>\n",
       "      <th>5</th>\n",
       "      <td>you</td>\n",
       "      <td>22</td>\n",
       "    </tr>\n",
       "    <tr>\n",
       "      <th>10</th>\n",
       "      <td>this</td>\n",
       "      <td>20</td>\n",
       "    </tr>\n",
       "    <tr>\n",
       "      <th>2</th>\n",
       "      <td>insurance</td>\n",
       "      <td>20</td>\n",
       "    </tr>\n",
       "    <tr>\n",
       "      <th>1</th>\n",
       "      <td>car</td>\n",
       "      <td>20</td>\n",
       "    </tr>\n",
       "    <tr>\n",
       "      <th>0</th>\n",
       "      <td>compare</td>\n",
       "      <td>10</td>\n",
       "    </tr>\n",
       "    <tr>\n",
       "      <th>20</th>\n",
       "      <td>for</td>\n",
       "      <td>10</td>\n",
       "    </tr>\n",
       "    <tr>\n",
       "      <th>22</th>\n",
       "      <td>don’t</td>\n",
       "      <td>10</td>\n",
       "    </tr>\n",
       "    <tr>\n",
       "      <th>23</th>\n",
       "      <td>miss</td>\n",
       "      <td>10</td>\n",
       "    </tr>\n",
       "    <tr>\n",
       "      <th>24</th>\n",
       "      <td>limited</td>\n",
       "      <td>10</td>\n",
       "    </tr>\n",
       "    <tr>\n",
       "      <th>26</th>\n",
       "      <td>offer</td>\n",
       "      <td>10</td>\n",
       "    </tr>\n",
       "  </tbody>\n",
       "</table>\n",
       "</div>"
      ],
      "text/plain": [
       "         Word  Count\n",
       "5         you     22\n",
       "10       this     20\n",
       "2   insurance     20\n",
       "1         car     20\n",
       "0     compare     10\n",
       "20        for     10\n",
       "22      don’t     10\n",
       "23       miss     10\n",
       "24    limited     10\n",
       "26      offer     10"
      ]
     },
     "execution_count": 22,
     "metadata": {},
     "output_type": "execute_result"
    }
   ],
   "source": [
    "generate_wordcloud(data[data['Spam']==0]['Subject'])\n",
    "show_top_words(all_words)"
   ]
  },
  {
   "cell_type": "markdown",
   "id": "f3757d6e",
   "metadata": {},
   "source": [
    "These are the common non-spam words/phrases from our data."
   ]
  },
  {
   "cell_type": "markdown",
   "id": "075aa6ad",
   "metadata": {},
   "source": [
    "## Applying our Model with New Subject Lines"
   ]
  },
  {
   "cell_type": "markdown",
   "id": "d1aebce5",
   "metadata": {},
   "source": [
    "Here we will see how I used our model to predict whether or not my subject lines would spam.  In this case we will be using the Random Forest Classifier as an example model, since it worked the best for me with my real world data."
   ]
  },
  {
   "cell_type": "code",
   "execution_count": 23,
   "id": "05744819",
   "metadata": {},
   "outputs": [
    {
     "name": "stdout",
     "output_type": "stream",
     "text": [
      "train score: 0.9666666666666667\n",
      "test score: 1.0\n",
      "train F1 score: 0.967741935483871\n",
      "test F1 score: 1.0\n",
      "train AUC: 0.9755555555555555\n",
      "test AUC: 1.0\n",
      "(120, 27)\n",
      "RandomForestClassifier() \n",
      "\n"
     ]
    }
   ],
   "source": [
    "model=classifier(RandomForestClassifier(), X_train, X_test, y_train, y_test)"
   ]
  },
  {
   "cell_type": "markdown",
   "id": "8541cfa6",
   "metadata": {},
   "source": [
    "Many email campaigns that we send have multiple possible subject lines.  They range anywhere from about 5-30 subject lines for each campaign.  As a mailer, we can choose to use whichever approved subject line we want.  For demonstration purposes, we will create a set of 10 fake subject lines for an auto insurance promotion.  We will then run our model on these subject lines to see if they are likely to spam."
   ]
  },
  {
   "cell_type": "code",
   "execution_count": 24,
   "id": "2d5408a1",
   "metadata": {},
   "outputs": [],
   "source": [
    "new_subjects={\"Subject\":[\"Need better auto insurance?\",\"Congratulations!\", \"You have been selected\", \"Enjoy a free quote\", \\\n",
    "                \"You have won a free auto prize!\", \"Affordable car insurance\", \"Want to save on auto insurance?\", \\\n",
    "               \"Cheap insurance rates, just for you\", \"Here is your free quote\", \"Congratulations on your free quote!\"]}"
   ]
  },
  {
   "cell_type": "code",
   "execution_count": 25,
   "id": "4468b154",
   "metadata": {},
   "outputs": [
    {
     "data": {
      "text/html": [
       "<div>\n",
       "<style scoped>\n",
       "    .dataframe tbody tr th:only-of-type {\n",
       "        vertical-align: middle;\n",
       "    }\n",
       "\n",
       "    .dataframe tbody tr th {\n",
       "        vertical-align: top;\n",
       "    }\n",
       "\n",
       "    .dataframe thead th {\n",
       "        text-align: right;\n",
       "    }\n",
       "</style>\n",
       "<table border=\"1\" class=\"dataframe\">\n",
       "  <thead>\n",
       "    <tr style=\"text-align: right;\">\n",
       "      <th></th>\n",
       "      <th>Subject</th>\n",
       "    </tr>\n",
       "  </thead>\n",
       "  <tbody>\n",
       "    <tr>\n",
       "      <th>0</th>\n",
       "      <td>Need better auto insurance?</td>\n",
       "    </tr>\n",
       "    <tr>\n",
       "      <th>1</th>\n",
       "      <td>Congratulations!</td>\n",
       "    </tr>\n",
       "    <tr>\n",
       "      <th>2</th>\n",
       "      <td>You have been selected</td>\n",
       "    </tr>\n",
       "    <tr>\n",
       "      <th>3</th>\n",
       "      <td>Enjoy a free quote</td>\n",
       "    </tr>\n",
       "    <tr>\n",
       "      <th>4</th>\n",
       "      <td>You have won a free auto prize!</td>\n",
       "    </tr>\n",
       "    <tr>\n",
       "      <th>5</th>\n",
       "      <td>Affordable car insurance</td>\n",
       "    </tr>\n",
       "    <tr>\n",
       "      <th>6</th>\n",
       "      <td>Want to save on auto insurance?</td>\n",
       "    </tr>\n",
       "    <tr>\n",
       "      <th>7</th>\n",
       "      <td>Cheap insurance rates, just for you</td>\n",
       "    </tr>\n",
       "    <tr>\n",
       "      <th>8</th>\n",
       "      <td>Here is your free quote</td>\n",
       "    </tr>\n",
       "    <tr>\n",
       "      <th>9</th>\n",
       "      <td>Congratulations on your free quote!</td>\n",
       "    </tr>\n",
       "  </tbody>\n",
       "</table>\n",
       "</div>"
      ],
      "text/plain": [
       "                               Subject\n",
       "0          Need better auto insurance?\n",
       "1                     Congratulations!\n",
       "2               You have been selected\n",
       "3                   Enjoy a free quote\n",
       "4      You have won a free auto prize!\n",
       "5             Affordable car insurance\n",
       "6      Want to save on auto insurance?\n",
       "7  Cheap insurance rates, just for you\n",
       "8              Here is your free quote\n",
       "9  Congratulations on your free quote!"
      ]
     },
     "execution_count": 25,
     "metadata": {},
     "output_type": "execute_result"
    }
   ],
   "source": [
    "new_subjects=pd.DataFrame(new_subjects)\n",
    "new_subjects"
   ]
  },
  {
   "cell_type": "code",
   "execution_count": 26,
   "id": "6e3e5b5f",
   "metadata": {},
   "outputs": [],
   "source": [
    "new_vect=vectorizer.transform(new_subjects.Subject)"
   ]
  },
  {
   "cell_type": "code",
   "execution_count": 27,
   "id": "1128f4c8",
   "metadata": {},
   "outputs": [],
   "source": [
    "class_preds=model.predict(new_vect)\n",
    "class_preds=pd.DataFrame(class_preds)"
   ]
  },
  {
   "cell_type": "code",
   "execution_count": 28,
   "id": "911409d1",
   "metadata": {},
   "outputs": [],
   "source": [
    "preds_proba=model.predict_proba(new_vect)[:,1]\n",
    "preds_proba=pd.DataFrame(preds_proba)"
   ]
  },
  {
   "cell_type": "code",
   "execution_count": 29,
   "id": "cb6c8e9b",
   "metadata": {},
   "outputs": [],
   "source": [
    "final_df=new_subjects.merge(class_preds, left_index=True, right_index=True)"
   ]
  },
  {
   "cell_type": "code",
   "execution_count": 30,
   "id": "725e5357",
   "metadata": {},
   "outputs": [],
   "source": [
    "final_df=final_df.merge(preds_proba, left_index=True, right_index=True)"
   ]
  },
  {
   "cell_type": "code",
   "execution_count": 31,
   "id": "e6e2042f",
   "metadata": {},
   "outputs": [],
   "source": [
    "final_df.columns=['Subject', 'Class Prediction', 'Spam Probability']"
   ]
  },
  {
   "cell_type": "code",
   "execution_count": 32,
   "id": "a70da7db",
   "metadata": {},
   "outputs": [
    {
     "data": {
      "text/html": [
       "<div>\n",
       "<style scoped>\n",
       "    .dataframe tbody tr th:only-of-type {\n",
       "        vertical-align: middle;\n",
       "    }\n",
       "\n",
       "    .dataframe tbody tr th {\n",
       "        vertical-align: top;\n",
       "    }\n",
       "\n",
       "    .dataframe thead th {\n",
       "        text-align: right;\n",
       "    }\n",
       "</style>\n",
       "<table border=\"1\" class=\"dataframe\">\n",
       "  <thead>\n",
       "    <tr style=\"text-align: right;\">\n",
       "      <th></th>\n",
       "      <th>Subject</th>\n",
       "      <th>Class Prediction</th>\n",
       "      <th>Spam Probability</th>\n",
       "    </tr>\n",
       "  </thead>\n",
       "  <tbody>\n",
       "    <tr>\n",
       "      <th>0</th>\n",
       "      <td>Need better auto insurance?</td>\n",
       "      <td>0</td>\n",
       "      <td>0.085092</td>\n",
       "    </tr>\n",
       "    <tr>\n",
       "      <th>1</th>\n",
       "      <td>Congratulations!</td>\n",
       "      <td>1</td>\n",
       "      <td>0.936583</td>\n",
       "    </tr>\n",
       "    <tr>\n",
       "      <th>2</th>\n",
       "      <td>You have been selected</td>\n",
       "      <td>0</td>\n",
       "      <td>0.092092</td>\n",
       "    </tr>\n",
       "    <tr>\n",
       "      <th>3</th>\n",
       "      <td>Enjoy a free quote</td>\n",
       "      <td>0</td>\n",
       "      <td>0.372479</td>\n",
       "    </tr>\n",
       "    <tr>\n",
       "      <th>4</th>\n",
       "      <td>You have won a free auto prize!</td>\n",
       "      <td>1</td>\n",
       "      <td>0.638811</td>\n",
       "    </tr>\n",
       "    <tr>\n",
       "      <th>5</th>\n",
       "      <td>Affordable car insurance</td>\n",
       "      <td>0</td>\n",
       "      <td>0.027537</td>\n",
       "    </tr>\n",
       "    <tr>\n",
       "      <th>6</th>\n",
       "      <td>Want to save on auto insurance?</td>\n",
       "      <td>0</td>\n",
       "      <td>0.085092</td>\n",
       "    </tr>\n",
       "    <tr>\n",
       "      <th>7</th>\n",
       "      <td>Cheap insurance rates, just for you</td>\n",
       "      <td>0</td>\n",
       "      <td>0.038222</td>\n",
       "    </tr>\n",
       "    <tr>\n",
       "      <th>8</th>\n",
       "      <td>Here is your free quote</td>\n",
       "      <td>0</td>\n",
       "      <td>0.372479</td>\n",
       "    </tr>\n",
       "    <tr>\n",
       "      <th>9</th>\n",
       "      <td>Congratulations on your free quote!</td>\n",
       "      <td>1</td>\n",
       "      <td>0.940841</td>\n",
       "    </tr>\n",
       "  </tbody>\n",
       "</table>\n",
       "</div>"
      ],
      "text/plain": [
       "                               Subject  Class Prediction  Spam Probability\n",
       "0          Need better auto insurance?                 0          0.085092\n",
       "1                     Congratulations!                 1          0.936583\n",
       "2               You have been selected                 0          0.092092\n",
       "3                   Enjoy a free quote                 0          0.372479\n",
       "4      You have won a free auto prize!                 1          0.638811\n",
       "5             Affordable car insurance                 0          0.027537\n",
       "6      Want to save on auto insurance?                 0          0.085092\n",
       "7  Cheap insurance rates, just for you                 0          0.038222\n",
       "8              Here is your free quote                 0          0.372479\n",
       "9  Congratulations on your free quote!                 1          0.940841"
      ]
     },
     "execution_count": 32,
     "metadata": {},
     "output_type": "execute_result"
    }
   ],
   "source": [
    "final_df"
   ]
  },
  {
   "cell_type": "markdown",
   "id": "c6d1bf91",
   "metadata": {},
   "source": [
    "As you can see here, the \"Congratulations!\", \"You have won a free auto prize!\", and \"Congratulations on your free quote!\" subject lines from our new campaign are likely to spam, so I would not include these subject lines in my email campaigns.  Additionally, I would run subject lines that have both a 0 class prediction and a low spam probability.  For example, \"Cheap insurance rates, just for you\" (0.038 probability of spam) is better than \"Enjoy a free quote\" (0.372 probability of spam)."
   ]
  }
 ],
 "metadata": {
  "kernelspec": {
   "display_name": "Python 3 (ipykernel)",
   "language": "python",
   "name": "python3"
  },
  "language_info": {
   "codemirror_mode": {
    "name": "ipython",
    "version": 3
   },
   "file_extension": ".py",
   "mimetype": "text/x-python",
   "name": "python",
   "nbconvert_exporter": "python",
   "pygments_lexer": "ipython3",
   "version": "3.9.7"
  }
 },
 "nbformat": 4,
 "nbformat_minor": 5
}
